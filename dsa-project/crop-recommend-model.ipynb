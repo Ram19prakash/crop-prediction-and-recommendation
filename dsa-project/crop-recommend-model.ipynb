{
 "cells": [
  {
   "cell_type": "code",
   "execution_count": 2,
   "metadata": {},
   "outputs": [
    {
     "name": "stdout",
     "output_type": "stream",
     "text": [
      "PCA Transformed Data:\n",
      "         PC1       PC2       PC3       PC4       PC5\n",
      "0 -0.582869 -0.844586  1.373343 -1.614129  0.308224\n",
      "1 -0.474635 -0.784895  1.252178 -1.792762  1.107745\n",
      "2 -0.634068 -0.694522  1.179332 -1.818106  2.523263\n",
      "3 -1.047920 -1.087658  1.393351 -0.982401  1.448781\n",
      "4 -0.873258 -0.658673  1.455685 -2.335012  1.959633\n",
      "Accuracy: 0.8886363636363637\n",
      "Classification Report:\n",
      "               precision    recall  f1-score   support\n",
      "\n",
      "       Apple       1.00      1.00      1.00        23\n",
      "      Banana       1.00      1.00      1.00        21\n",
      "   Blackgram       0.79      0.75      0.77        20\n",
      "    ChickPea       0.96      0.96      0.96        26\n",
      "     Coconut       0.96      1.00      0.98        27\n",
      "      Coffee       0.87      0.76      0.81        17\n",
      "      Cotton       0.94      0.88      0.91        17\n",
      "      Grapes       1.00      1.00      1.00        14\n",
      "        Jute       0.69      0.96      0.80        23\n",
      " KidneyBeans       0.90      0.95      0.93        20\n",
      "      Lentil       0.60      0.82      0.69        11\n",
      "       Maize       0.86      0.90      0.88        21\n",
      "       Mango       0.79      1.00      0.88        19\n",
      "   MothBeans       1.00      0.62      0.77        24\n",
      "    MungBean       0.84      0.84      0.84        19\n",
      "   Muskmelon       1.00      1.00      1.00        17\n",
      "      Orange       0.92      0.79      0.85        14\n",
      "      Papaya       1.00      0.83      0.90        23\n",
      "  PigeonPeas       0.86      0.83      0.84        23\n",
      " Pomegranate       0.95      0.91      0.93        23\n",
      "        Rice       0.76      0.68      0.72        19\n",
      "  Watermelon       0.90      1.00      0.95        19\n",
      "\n",
      "    accuracy                           0.89       440\n",
      "   macro avg       0.89      0.89      0.88       440\n",
      "weighted avg       0.90      0.89      0.89       440\n",
      "\n",
      "Confusion Matrix:\n",
      " [[23  0  0  0  0  0  0  0  0  0  0  0  0  0  0  0  0  0  0  0  0  0]\n",
      " [ 0 21  0  0  0  0  0  0  0  0  0  0  0  0  0  0  0  0  0  0  0  0]\n",
      " [ 0  0 15  0  0  0  0  0  0  0  2  0  0  0  3  0  0  0  0  0  0  0]\n",
      " [ 0  0  0 25  0  0  0  0  0  1  0  0  0  0  0  0  0  0  0  0  0  0]\n",
      " [ 0  0  0  0 27  0  0  0  0  0  0  0  0  0  0  0  0  0  0  0  0  0]\n",
      " [ 0  0  0  0  0 13  0  0  2  0  0  1  0  0  0  0  0  0  0  0  1  0]\n",
      " [ 0  0  0  0  0  0 15  0  0  0  0  0  0  0  0  0  0  0  0  0  0  2]\n",
      " [ 0  0  0  0  0  0  0 14  0  0  0  0  0  0  0  0  0  0  0  0  0  0]\n",
      " [ 0  0  0  0  0  0  0  0 22  0  0  0  0  0  0  0  0  0  0  0  1  0]\n",
      " [ 0  0  0  0  0  0  0  0  0 19  0  0  0  0  0  0  0  0  1  0  0  0]\n",
      " [ 0  0  1  0  0  0  0  0  0  0  9  0  0  0  0  0  0  0  1  0  0  0]\n",
      " [ 0  0  0  0  0  1  1  0  0  0  0 19  0  0  0  0  0  0  0  0  0  0]\n",
      " [ 0  0  0  0  0  0  0  0  0  0  0  0 19  0  0  0  0  0  0  0  0  0]\n",
      " [ 0  0  0  0  0  0  0  0  0  0  3  0  5 15  0  0  0  0  1  0  0  0]\n",
      " [ 0  0  3  0  0  0  0  0  0  0  0  0  0  0 16  0  0  0  0  0  0  0]\n",
      " [ 0  0  0  0  0  0  0  0  0  0  0  0  0  0  0 17  0  0  0  0  0  0]\n",
      " [ 0  0  0  0  0  1  0  0  0  0  0  1  0  0  0  0 11  0  0  1  0  0]\n",
      " [ 0  0  0  0  0  0  0  0  2  0  0  0  0  0  0  0  0 19  0  0  2  0]\n",
      " [ 0  0  0  1  1  0  0  0  0  1  1  0  0  0  0  0  0  0 19  0  0  0]\n",
      " [ 0  0  0  0  0  0  0  0  0  0  0  1  0  0  0  0  1  0  0 21  0  0]\n",
      " [ 0  0  0  0  0  0  0  0  6  0  0  0  0  0  0  0  0  0  0  0 13  0]\n",
      " [ 0  0  0  0  0  0  0  0  0  0  0  0  0  0  0  0  0  0  0  0  0 19]]\n",
      "Before PCA, StandardScaler Input Shape: (2200, 7)\n"
     ]
    }
   ],
   "source": [
    "import pandas as pd\n",
    "import numpy as np\n",
    "from sklearn.preprocessing import StandardScaler, LabelEncoder\n",
    "from sklearn.decomposition import PCA\n",
    "from sklearn.ensemble import RandomForestClassifier\n",
    "from sklearn.model_selection import train_test_split\n",
    "from sklearn.metrics import accuracy_score, classification_report, confusion_matrix\n",
    "import joblib\n",
    "\n",
    "# Load dataset\n",
    "df = pd.read_csv(\"Crop_Recommendation.csv\")\n",
    "\n",
    "# Define numerical and target columns\n",
    "numerical_data = ['Nitrogen', 'Phosphorus', 'Potassium', 'Temperature', 'Humidity', 'pH_Value', 'Rainfall']\n",
    "x = df[numerical_data]\n",
    "y = df['Crop']\n",
    "\n",
    "# Standardize data\n",
    "scaler = StandardScaler()\n",
    "X_scaled = scaler.fit_transform(x)  # Scaling 7 features\n",
    "\n",
    "# Apply PCA\n",
    "pca = PCA(n_components=5)  # Reduce dimensions to 5\n",
    "X_pca = pca.fit_transform(X_scaled)\n",
    "\n",
    "# Convert PCA results to DataFrame (optional for visualization)\n",
    "pca_df = pd.DataFrame(X_pca, columns=[f'PC{i+1}' for i in range(pca.n_components_)])\n",
    "print(\"PCA Transformed Data:\\n\", pca_df.head())\n",
    "\n",
    "# Train-test split\n",
    "X_train, X_test, y_train, y_test = train_test_split(X_pca, y, test_size=0.2, random_state=42)\n",
    "\n",
    "# Train Random Forest Classifier\n",
    "rf_model = RandomForestClassifier(n_estimators=100, max_depth=8, random_state=42)\n",
    "rf_model.fit(X_train, y_train)\n",
    "\n",
    "# Make predictions\n",
    "y_pred = rf_model.predict(X_test)  # ✅ FIXED ERROR\n",
    "\n",
    "# Model evaluation\n",
    "accuracy = accuracy_score(y_test, y_pred)\n",
    "report = classification_report(y_test, y_pred)\n",
    "conf_matrix = confusion_matrix(y_test, y_pred)\n",
    "\n",
    "print(\"Accuracy:\", accuracy)\n",
    "print(\"Classification Report:\\n\", report)\n",
    "print(\"Confusion Matrix:\\n\", conf_matrix)\n",
    "\n",
    "# Save trained models & scaler\n",
    "joblib.dump(rf_model, \"rf_recommendation.pkl\")  # Save trained Random Forest model\n",
    "joblib.dump(pca, \"pca_recommendation.pkl\")      # Save PCA transformation\n",
    "joblib.dump(scaler, \"scaler_recommendation.pkl\")  # ✅ FIXED: Save scaler instead of X_scaled\n",
    "\n",
    "print(f\"Before PCA, StandardScaler Input Shape: {X_scaled.shape}\")  # Should print (num_samples, 7)\n"
   ]
  },
  {
   "cell_type": "code",
   "execution_count": 3,
   "metadata": {},
   "outputs": [
    {
     "data": {
      "text/plain": [
       "(2200, 8)"
      ]
     },
     "execution_count": 3,
     "metadata": {},
     "output_type": "execute_result"
    }
   ],
   "source": [
    "df.shape"
   ]
  }
 ],
 "metadata": {
  "kernelspec": {
   "display_name": "Python 3",
   "language": "python",
   "name": "python3"
  },
  "language_info": {
   "codemirror_mode": {
    "name": "ipython",
    "version": 3
   },
   "file_extension": ".py",
   "mimetype": "text/x-python",
   "name": "python",
   "nbconvert_exporter": "python",
   "pygments_lexer": "ipython3",
   "version": "3.12.10"
  }
 },
 "nbformat": 4,
 "nbformat_minor": 2
}
